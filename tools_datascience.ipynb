{
  "nbformat": 4,
  "nbformat_minor": 0,
  "metadata": {
    "colab": {
      "provenance": []
    },
    "kernelspec": {
      "name": "python3",
      "display_name": "Python 3"
    },
    "language_info": {
      "name": "python"
    }
  },
  "cells": [
    {
      "cell_type": "markdown",
      "source": [
        "#TOOLS DATASCIENCE MODULE 6 ASSIGNMENT"
      ],
      "metadata": {
        "id": "3gk8GoDL6VdZ"
      }
    },
    {
      "cell_type": "code",
      "execution_count": 1,
      "metadata": {
        "id": "6FtsAcR_5u5r"
      },
      "outputs": [],
      "source": [
        "#TOOLS DATASCIENCE MODULE 6 ASSIGNMENT"
      ]
    },
    {
      "cell_type": "markdown",
      "source": [
        " \"In this notebook, we will explore various Data Science tools, languages, and libraries.\""
      ],
      "metadata": {
        "id": "ufXNXC4J6QtZ"
      }
    },
    {
      "cell_type": "markdown",
      "source": [
        "- Python\n",
        "- R\n",
        "- SQL\n",
        "- Julia\n",
        "- Scala"
      ],
      "metadata": {
        "id": "HSdzGxjm7CRz"
      }
    },
    {
      "cell_type": "markdown",
      "source": [
        "\"## Commonly used Data Science Libraries\"\n",
        "- NumPy\n",
        "- Pandas\n",
        "- Matplotlib\n",
        "- Scikit-learn\n",
        "- TensorFlow"
      ],
      "metadata": {
        "id": "FAPeAfiw7Gpc"
      }
    },
    {
      "cell_type": "markdown",
      "source": [
        "| Data Science Tools |\n",
        "|--------------------|\n",
        "| Jupyter Notebook   |\n",
        "| RStudio            |\n",
        "| VS Code            |"
      ],
      "metadata": {
        "id": "-j3BRpfU7QVZ"
      }
    },
    {
      "cell_type": "markdown",
      "source": [
        "## Examples of Arithmetic Expressions in Python"
      ],
      "metadata": {
        "id": "li1QzCtw7eM1"
      }
    },
    {
      "cell_type": "code",
      "source": [
        "# Multiply and Add numbers\n",
        "result = (3*4) + 5\n",
        "print(result)"
      ],
      "metadata": {
        "colab": {
          "base_uri": "https://localhost:8080/"
        },
        "id": "RP99pKV07l9n",
        "outputId": "be8cd1a3-36ee-445c-8d14-880c8d7729e6"
      },
      "execution_count": 2,
      "outputs": [
        {
          "output_type": "stream",
          "name": "stdout",
          "text": [
            "17\n"
          ]
        }
      ]
    },
    {
      "cell_type": "code",
      "source": [
        "# Convert 200 minutes to hours\n",
        "minutes = 200\n",
        "hours = minutes / 60\n",
        "print(f\"{minutes} minutes is equal to {hours} hours\")"
      ],
      "metadata": {
        "colab": {
          "base_uri": "https://localhost:8080/"
        },
        "id": "455COCEE7rBc",
        "outputId": "3af46e1a-ca48-4a7d-85ad-efea1b1191ec"
      },
      "execution_count": 3,
      "outputs": [
        {
          "output_type": "stream",
          "name": "stdout",
          "text": [
            "200 minutes is equal to 3.3333333333333335 hours\n"
          ]
        }
      ]
    },
    {
      "cell_type": "markdown",
      "source": [
        "## Objectives\n",
        "- List popular languages for Data Science\n",
        "- Introduce common Data Science libraries\n",
        "- Demonstrate arithmetic operations in Python\n",
        "- Convert units using Python"
      ],
      "metadata": {
        "id": "YTRHKMpz7xrN"
      }
    },
    {
      "cell_type": "markdown",
      "source": [
        "## Author\\n[Sucharita Mohapatra]"
      ],
      "metadata": {
        "id": "ZFUwH_Av70PW"
      }
    }
  ]
}